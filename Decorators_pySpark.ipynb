{
 "cells": [
  {
   "cell_type": "markdown",
   "id": "cdf3b059-6db5-47d9-a128-69686b8aa217",
   "metadata": {},
   "source": [
    "The purpose of this script is to convert timeseries GPS data to Linestring format. The conversion will be performed:\n",
    "1. via UDF functions using decorators.\n",
    "2. performing UDF function registration in PySpark."
   ]
  },
  {
   "cell_type": "markdown",
   "id": "f7dfca48-27c2-41d5-ab9c-ad102494344a",
   "metadata": {},
   "source": [
    "The output is a csv file from GPS Tracks Data from VED Dataset (Vehicle Energy Dataset). VED is a comprehensive dataset capturing GPS trajectories of 383 vehicles (including gasoline vehicles, HEVs, and PHEV/EVs) in Ann Arbor, Michigan, USA, from Nov 2017 to Nov 2018. The data spans ~374,000 miles and includes details on fuel, energy, speed, and auxiliary power usage. Driving scenarios cover diverse conditions, from highways to traffic-dense downtown areas, across different seasons.\n",
    "\n",
    "Source: \"Vehicle Energy Dataset (VED), A Large-scale Dataset for Vehicle Energy Consumption Research\" by Geunseob (GS) Oh, David J. LeBlanc, Huei Peng. Published in IEEE Transactions on Intelligent Transportation Systems (T-ITS), 2020.\n",
    "\n",
    "GitHub: https://github.com/gsoh/VED"
   ]
  },
  {
   "cell_type": "code",
   "execution_count": 1,
   "id": "b74c86e7-a00f-42c7-b80f-7beaf44e7216",
   "metadata": {
    "execution": {
     "iopub.execute_input": "2025-04-10T12:41:50.496649Z",
     "iopub.status.busy": "2025-04-10T12:41:50.496346Z",
     "iopub.status.idle": "2025-04-10T12:41:51.015078Z",
     "shell.execute_reply": "2025-04-10T12:41:51.014604Z",
     "shell.execute_reply.started": "2025-04-10T12:41:50.496630Z"
    }
   },
   "outputs": [],
   "source": [
    "from shapely.geometry import LineString\n",
    "from pyspark.sql.window import Window\n",
    "from pyspark.sql.functions import col, expr, udf, collect_list, struct, row_number, lit\n",
    "from sedona.spark import *\n",
    "from pyspark.sql.functions import udf\n",
    "from sedona.sql.types import GeometryType\n",
    "from pyspark.sql.types import ArrayType, StructType, StructField, LongType, DoubleType"
   ]
  },
  {
   "cell_type": "code",
   "execution_count": 2,
   "id": "bbb96439-3afd-462b-bf8d-ad49b9fb8267",
   "metadata": {
    "execution": {
     "iopub.execute_input": "2025-04-10T12:42:08.231532Z",
     "iopub.status.busy": "2025-04-10T12:42:08.231204Z",
     "iopub.status.idle": "2025-04-10T12:42:34.798912Z",
     "shell.execute_reply": "2025-04-10T12:42:34.798197Z",
     "shell.execute_reply.started": "2025-04-10T12:42:08.231515Z"
    }
   },
   "outputs": [
    {
     "name": "stderr",
     "output_type": "stream",
     "text": [
      "Setting default log level to \"WARN\".\n",
      "To adjust logging level use sc.setLogLevel(newLevel). For SparkR, use setLogLevel(newLevel).\n",
      "                                                                                \r"
     ]
    }
   ],
   "source": [
    "config = SedonaContext.builder().getOrCreate()\n",
    "sedona = SedonaContext.create(config)"
   ]
  },
  {
   "cell_type": "code",
   "execution_count": 3,
   "id": "076da1b6-c1e0-4888-a36d-06a2a85f0908",
   "metadata": {
    "execution": {
     "iopub.execute_input": "2025-04-10T12:42:46.187106Z",
     "iopub.status.busy": "2025-04-10T12:42:46.186834Z",
     "iopub.status.idle": "2025-04-10T12:42:52.115337Z",
     "shell.execute_reply": "2025-04-10T12:42:52.114603Z",
     "shell.execute_reply.started": "2025-04-10T12:42:46.187089Z"
    }
   },
   "outputs": [
    {
     "name": "stderr",
     "output_type": "stream",
     "text": [
      "                                                                                \r"
     ]
    }
   ],
   "source": [
    "df = sedona.read.csv(\"s3://wherobots-examples/data/VED_171101_week.csv\", header=True, inferSchema=True)"
   ]
  },
  {
   "cell_type": "code",
   "execution_count": 4,
   "id": "04dc5af2-3a48-4b33-a5c0-9992cf0c972f",
   "metadata": {
    "execution": {
     "iopub.execute_input": "2025-04-10T12:43:27.431547Z",
     "iopub.status.busy": "2025-04-10T12:43:27.431326Z",
     "iopub.status.idle": "2025-04-10T12:43:27.450700Z",
     "shell.execute_reply": "2025-04-10T12:43:27.450088Z",
     "shell.execute_reply.started": "2025-04-10T12:43:27.431531Z"
    }
   },
   "outputs": [],
   "source": [
    "df = df.select(['VehId', 'Trip', 'Timestamp(ms)','Latitude[deg]', 'Longitude[deg]'])"
   ]
  },
  {
   "cell_type": "code",
   "execution_count": 5,
   "id": "f5699519-1757-4403-a7f5-ed6374ec25d9",
   "metadata": {
    "execution": {
     "iopub.execute_input": "2025-04-10T12:43:55.235495Z",
     "iopub.status.busy": "2025-04-10T12:43:55.235273Z",
     "iopub.status.idle": "2025-04-10T12:43:55.267347Z",
     "shell.execute_reply": "2025-04-10T12:43:55.266873Z",
     "shell.execute_reply.started": "2025-04-10T12:43:55.235478Z"
    }
   },
   "outputs": [],
   "source": [
    "df.createOrReplaceTempView(\"gps_data\")"
   ]
  },
  {
   "cell_type": "code",
   "execution_count": 6,
   "id": "e500ea22-0b6c-4d55-86c8-3b7b9cd88fbe",
   "metadata": {
    "execution": {
     "iopub.execute_input": "2025-04-10T12:44:55.150096Z",
     "iopub.status.busy": "2025-04-10T12:44:55.149833Z",
     "iopub.status.idle": "2025-04-10T12:44:55.566078Z",
     "shell.execute_reply": "2025-04-10T12:44:55.565401Z",
     "shell.execute_reply.started": "2025-04-10T12:44:55.150080Z"
    }
   },
   "outputs": [
    {
     "name": "stdout",
     "output_type": "stream",
     "text": [
      "+-----+----+-------------+-------------+--------------+\n",
      "|VehId|Trip|Timestamp(ms)|Latitude[deg]|Longitude[deg]|\n",
      "+-----+----+-------------+-------------+--------------+\n",
      "|    8| 706|            0|42.2775583333|-83.6987497222|\n",
      "|    8| 706|          200|42.2775583333|-83.6987497222|\n",
      "|    8| 706|         1100|42.2775583333|-83.6987497222|\n",
      "|    8| 706|         2100|42.2775583333|-83.6987497222|\n",
      "|    8| 706|         4200|42.2775583333|-83.6987497222|\n",
      "|    8| 706|         5200|42.2782552778|-83.6988030556|\n",
      "|    8| 706|         6300|42.2782552778|-83.6988030556|\n",
      "|    8| 706|         7400|42.2782552778|-83.6988030556|\n",
      "|    8| 706|         8400|42.2782552778|-83.6988030556|\n",
      "|    8| 706|        10600|   42.2790125|-83.6989011111|\n",
      "|    8| 706|        11700|   42.2790125|-83.6989011111|\n",
      "|    8| 706|        12800|   42.2790125|-83.6989011111|\n",
      "|    8| 706|        13800|   42.2790125|-83.6989011111|\n",
      "|    8| 706|        14900|   42.2790125|-83.6989011111|\n",
      "|    8| 706|        16000|42.2798258333|   -83.6990825|\n",
      "|    8| 706|        17000|42.2798258333|   -83.6990825|\n",
      "|    8| 706|        19800|42.2798258333|   -83.6990825|\n",
      "|    8| 706|        20800|42.2798258333|   -83.6990825|\n",
      "|    8| 706|        21000|42.2806536111|-83.6993497222|\n",
      "|    8| 706|        21800|42.2806536111|-83.6993497222|\n",
      "+-----+----+-------------+-------------+--------------+\n",
      "only showing top 20 rows\n",
      "\n"
     ]
    }
   ],
   "source": [
    "df.show()"
   ]
  },
  {
   "cell_type": "code",
   "execution_count": 9,
   "id": "df8e75a3-da34-4ffd-ad83-a8edbd884d89",
   "metadata": {
    "execution": {
     "iopub.execute_input": "2025-04-10T13:03:41.556416Z",
     "iopub.status.busy": "2025-04-10T13:03:41.555670Z",
     "iopub.status.idle": "2025-04-10T13:03:41.559297Z",
     "shell.execute_reply": "2025-04-10T13:03:41.558795Z",
     "shell.execute_reply.started": "2025-04-10T13:03:41.556391Z"
    }
   },
   "outputs": [
    {
     "name": "stdout",
     "output_type": "stream",
     "text": [
      "root\n",
      " |-- VehId: integer (nullable = true)\n",
      " |-- Trip: integer (nullable = true)\n",
      " |-- Timestamp(ms): integer (nullable = true)\n",
      " |-- Latitude[deg]: double (nullable = true)\n",
      " |-- Longitude[deg]: double (nullable = true)\n",
      "\n"
     ]
    }
   ],
   "source": [
    "df.printSchema()"
   ]
  },
  {
   "cell_type": "markdown",
   "id": "96c1ffdd-c61e-4e3d-803c-2bf548d8d9b7",
   "metadata": {},
   "source": [
    "1. UDF functions using decorators"
   ]
  },
  {
   "cell_type": "code",
   "execution_count": 10,
   "id": "cea744c1-6f04-4333-a785-385cb308f517",
   "metadata": {
    "execution": {
     "iopub.execute_input": "2025-04-10T13:04:22.995999Z",
     "iopub.status.busy": "2025-04-10T13:04:22.995777Z",
     "iopub.status.idle": "2025-04-10T13:04:23.059748Z",
     "shell.execute_reply": "2025-04-10T13:04:23.059314Z",
     "shell.execute_reply.started": "2025-04-10T13:04:22.995983Z"
    }
   },
   "outputs": [],
   "source": [
    "result = sedona.sql(\"\"\"\n",
    "SELECT \n",
    "  VehId, \n",
    "  Trip,\n",
    "  COLLECT_LIST(\n",
    "    NAMED_STRUCT(\n",
    "      'timestamp', `Timestamp(ms)`,\n",
    "      'lat', `Latitude[deg]`,\n",
    "      'lon', `Longitude[deg]`\n",
    "    )\n",
    "  ) AS gps_points\n",
    "FROM gps_data\n",
    "GROUP BY VehId, Trip\n",
    "\"\"\")"
   ]
  },
  {
   "cell_type": "code",
   "execution_count": 11,
   "id": "ac3a31ac-8236-49d6-8af4-db91ecef4f7c",
   "metadata": {
    "execution": {
     "iopub.execute_input": "2025-04-10T13:04:41.549020Z",
     "iopub.status.busy": "2025-04-10T13:04:41.548396Z",
     "iopub.status.idle": "2025-04-10T13:04:41.553489Z",
     "shell.execute_reply": "2025-04-10T13:04:41.552936Z",
     "shell.execute_reply.started": "2025-04-10T13:04:41.548994Z"
    }
   },
   "outputs": [
    {
     "name": "stdout",
     "output_type": "stream",
     "text": [
      "root\n",
      " |-- VehId: integer (nullable = true)\n",
      " |-- Trip: integer (nullable = true)\n",
      " |-- gps_points: array (nullable = false)\n",
      " |    |-- element: struct (containsNull = false)\n",
      " |    |    |-- timestamp: integer (nullable = true)\n",
      " |    |    |-- lat: double (nullable = true)\n",
      " |    |    |-- lon: double (nullable = true)\n",
      "\n"
     ]
    }
   ],
   "source": [
    "result.printSchema()"
   ]
  },
  {
   "cell_type": "markdown",
   "id": "dd48de0e-3065-4a65-8c8b-914eff73eee7",
   "metadata": {},
   "source": [
    "COLLECT_LIST(...) AS gps_points:\n",
    "\n",
    "Collects all rows in each group (VehId, Trip) into one list.\n",
    "\n",
    "Each element of the list is:\n",
    "\n",
    "NAMED_STRUCT('timestamp', ..., 'lat', ..., 'lon', ...)\n",
    "\n",
    "That is, a structure (record) with three fields: timestamp, lat, lon."
   ]
  },
  {
   "cell_type": "markdown",
   "id": "0efd8a5b-5cdd-4f7f-9819-6f9fb1a30211",
   "metadata": {},
   "source": [
    "NAMED_STRUCT(...):\n",
    "\n",
    "Creates a structure (something like an object or dictionary) with named fields.\n",
    "\n",
    "We use the data from the original columns:\n",
    "\n",
    "Timestamp(ms) → as timestamp\n",
    "\n",
    "Latitude[deg] → as lat\n",
    "\n",
    "Longitude[deg] → as lon"
   ]
  },
  {
   "cell_type": "markdown",
   "id": "81a4ef3e-f9bd-4891-bef5-478a8892bc09",
   "metadata": {},
   "source": [
    "Each row represents one vehicle trip and contains a list of all GPS points from that trip (in any order – sorting is done separately later)."
   ]
  },
  {
   "cell_type": "code",
   "execution_count": 12,
   "id": "c2d5fd5d-1151-494d-a4fb-7454ba467c2f",
   "metadata": {
    "execution": {
     "iopub.execute_input": "2025-04-10T13:10:13.707490Z",
     "iopub.status.busy": "2025-04-10T13:10:13.707237Z",
     "iopub.status.idle": "2025-04-10T13:10:15.335212Z",
     "shell.execute_reply": "2025-04-10T13:10:15.334448Z",
     "shell.execute_reply.started": "2025-04-10T13:10:13.707474Z"
    }
   },
   "outputs": [
    {
     "name": "stderr",
     "output_type": "stream",
     "text": [
      "[Stage 6:==============>                                           (3 + 9) / 12]\r"
     ]
    },
    {
     "name": "stdout",
     "output_type": "stream",
     "text": [
      "+-----+----+--------------------+\n",
      "|VehId|Trip|          gps_points|\n",
      "+-----+----+--------------------+\n",
      "|    8| 707|[{0, 42.277681388...|\n",
      "|   10|1558|[{0, 42.277065833...|\n",
      "|   10|1585|[{0, 42.2507675, ...|\n",
      "|  116|2471|[{0, 42.275163611...|\n",
      "|  116|2480|[{0, 42.277565277...|\n",
      "|  116|2506|[{0, 42.277501111...|\n",
      "|  124| 773|[{0, 42.264340833...|\n",
      "|  124| 776|[{0, 42.281764444...|\n",
      "|  128| 603|[{0, 42.305195833...|\n",
      "|  133|1398|[{0, 42.2641025, ...|\n",
      "|  133|1399|[{0, 42.230767222...|\n",
      "|  140|1222|[{0, 42.276283611...|\n",
      "|  150| 504|[{0, 42.274460277...|\n",
      "|  155|1516|[{0, 42.245740833...|\n",
      "|  155|1533|[{0, 42.284663333...|\n",
      "|  155|1534|[{363000, 42.2470...|\n",
      "|  156| 912|[{0, 42.309303055...|\n",
      "|  156| 913|[{0, 42.293580555...|\n",
      "|  161| 360|[{0, 42.2355225, ...|\n",
      "|  174|1145|[{0, 42.244144722...|\n",
      "+-----+----+--------------------+\n",
      "only showing top 20 rows\n",
      "\n"
     ]
    },
    {
     "name": "stderr",
     "output_type": "stream",
     "text": [
      "                                                                                \r"
     ]
    }
   ],
   "source": [
    "result.show()"
   ]
  },
  {
   "cell_type": "markdown",
   "id": "467dd1f7-8c9c-4f8d-866d-66f2117aa8da",
   "metadata": {},
   "source": [
    "In the next steps gps_points: are sorted by timestamp, transformed into LineString (i.e. route geometry)"
   ]
  },
  {
   "cell_type": "markdown",
   "id": "73d8f9f4-fc98-44ed-85b9-bee8d2457142",
   "metadata": {},
   "source": [
    "This code defines and uses a User Defined Function (UDF) in PySpark to sort a list of GPS points by time (timestamp)."
   ]
  },
  {
   "cell_type": "markdown",
   "id": "6a9b781f-acf4-4673-a680-9951902a8e4f",
   "metadata": {},
   "source": [
    "@udf(...) decorator\n",
    "1. Registers the sort_coords function as a UDF (User Defined Function) in PySpark.\n",
    "\n",
    "returnType=ArrayType(StructType(...)):\n",
    "\n",
    "Specifies that this function returns a list of structures (i.e. Array of Structs), where each structure contains:\n",
    "\n",
    "timestamp: integer (LongType)\n",
    "\n",
    "lat: floating point number (DoubleType)\n",
    "\n",
    "lon: floating point number (DoubleType)\n",
    "\n",
    "2. The sort_coords function\n",
    "Takes as an argument the gps_points column, which is a list of structures generated earlier (in result).\n",
    "\n",
    "Sorts this list by the timestamp field so that the GPS points are in time order.\n",
    "\n",
    "Returns a sorted list of structures."
   ]
  },
  {
   "cell_type": "code",
   "execution_count": 14,
   "id": "d85b3569-055c-426b-9e17-703567d47143",
   "metadata": {
    "execution": {
     "iopub.execute_input": "2025-04-10T13:13:30.435610Z",
     "iopub.status.busy": "2025-04-10T13:13:30.435337Z",
     "iopub.status.idle": "2025-04-10T13:13:30.439591Z",
     "shell.execute_reply": "2025-04-10T13:13:30.439111Z",
     "shell.execute_reply.started": "2025-04-10T13:13:30.435594Z"
    }
   },
   "outputs": [],
   "source": [
    "@udf(returnType=ArrayType(\n",
    "    StructType([\n",
    "        StructField(\"timestamp\", LongType()),\n",
    "        StructField(\"lat\", DoubleType()),\n",
    "        StructField(\"lon\", DoubleType())\n",
    "    ])\n",
    "))\n",
    "def sort_coords(gps_points):\n",
    "    return sorted(gps_points, key=lambda x: x['timestamp'])"
   ]
  },
  {
   "cell_type": "code",
   "execution_count": 15,
   "id": "65b1397c-80cc-4f7d-a6d8-d6212191aaa1",
   "metadata": {
    "execution": {
     "iopub.execute_input": "2025-04-10T13:13:31.227431Z",
     "iopub.status.busy": "2025-04-10T13:13:31.227207Z",
     "iopub.status.idle": "2025-04-10T13:13:31.258081Z",
     "shell.execute_reply": "2025-04-10T13:13:31.257566Z",
     "shell.execute_reply.started": "2025-04-10T13:13:31.227416Z"
    }
   },
   "outputs": [],
   "source": [
    "# Dodajemy posortowane punkty i geometrie\n",
    "with_sorted = result.withColumn(\"coords_sorted\", sort_coords(\"gps_points\"))"
   ]
  },
  {
   "cell_type": "code",
   "execution_count": 16,
   "id": "160c34c5-1fdd-4887-a639-f33c1d8f673c",
   "metadata": {
    "execution": {
     "iopub.execute_input": "2025-04-10T13:13:45.396275Z",
     "iopub.status.busy": "2025-04-10T13:13:45.395273Z",
     "iopub.status.idle": "2025-04-10T13:13:47.156015Z",
     "shell.execute_reply": "2025-04-10T13:13:47.155617Z",
     "shell.execute_reply.started": "2025-04-10T13:13:45.396249Z"
    }
   },
   "outputs": [
    {
     "name": "stderr",
     "output_type": "stream",
     "text": [
      "[Stage 11:>                                                         (0 + 1) / 1]\r"
     ]
    },
    {
     "name": "stdout",
     "output_type": "stream",
     "text": [
      "+-----+----+--------------------+--------------------+\n",
      "|VehId|Trip|          gps_points|       coords_sorted|\n",
      "+-----+----+--------------------+--------------------+\n",
      "|    8| 707|[{0, 42.277681388...|[{0, 42.277681388...|\n",
      "|   10|1558|[{0, 42.277065833...|[{0, 42.277065833...|\n",
      "|   10|1585|[{0, 42.2507675, ...|[{0, 42.2507675, ...|\n",
      "|  116|2471|[{0, 42.275163611...|[{0, 42.275163611...|\n",
      "|  116|2480|[{0, 42.277565277...|[{0, 42.277565277...|\n",
      "|  116|2506|[{0, 42.277501111...|[{0, 42.277501111...|\n",
      "|  124| 773|[{0, 42.264340833...|[{0, 42.264340833...|\n",
      "|  124| 776|[{0, 42.281764444...|[{0, 42.281764444...|\n",
      "|  128| 603|[{0, 42.305195833...|[{0, 42.305195833...|\n",
      "|  133|1398|[{0, 42.2641025, ...|[{0, 42.2641025, ...|\n",
      "|  133|1399|[{0, 42.230767222...|[{0, 42.230767222...|\n",
      "|  140|1222|[{0, 42.276283611...|[{0, 42.276283611...|\n",
      "|  150| 504|[{0, 42.274460277...|[{0, 42.274460277...|\n",
      "|  155|1516|[{0, 42.245740833...|[{0, 42.245740833...|\n",
      "|  155|1533|[{0, 42.284663333...|[{0, 42.284663333...|\n",
      "|  155|1534|[{0, 42.234061111...|[{0, 42.234061111...|\n",
      "|  156| 912|[{0, 42.309303055...|[{0, 42.309303055...|\n",
      "|  156| 913|[{0, 42.293580555...|[{0, 42.293580555...|\n",
      "|  161| 360|[{0, 42.2355225, ...|[{0, 42.2355225, ...|\n",
      "|  174|1145|[{0, 42.244144722...|[{0, 42.244144722...|\n",
      "+-----+----+--------------------+--------------------+\n",
      "only showing top 20 rows\n",
      "\n"
     ]
    },
    {
     "name": "stderr",
     "output_type": "stream",
     "text": [
      "                                                                                \r"
     ]
    }
   ],
   "source": [
    "with_sorted.show()"
   ]
  },
  {
   "cell_type": "markdown",
   "id": "5d3cc81e-9370-4f2d-9bf2-71f73f8afab5",
   "metadata": {},
   "source": [
    "In GPS data, the order of points matters - without sorting, the route can be illogical (e.g. jump around in time or \"jump\" on the map).\n",
    "\n",
    "Sorting before creating the geometry (LineString) ensures that the line is temporally and spatially correct."
   ]
  },
  {
   "cell_type": "markdown",
   "id": "3b7584c1-32e4-45fd-abf4-8f03d30c1081",
   "metadata": {},
   "source": [
    "@udf(returnType=GeometryType()) decorator:\n",
    "\n",
    "1. Registers a function as a UDF in Spark SQL.\n",
    "\n",
    "GeometryType() means that the result of this function is a spatial (geometric) object - here: LineString (a line connecting points).\n",
    "\n",
    "2. The make_linestring function:\n",
    "\n",
    "Takes a list of GPS points (gps_points), which are already sorted by time.\n",
    "\n",
    "Each point is a dictionary with lat and lon fields.\n",
    "\n",
    "Creates a list of coordinates in the format (lon, lat) - this is important because LineString in a spatial library (e.g. Shapely, Sedona) expects the order (x, y) → (longitude, latitude).\n",
    "\n",
    "Creates a LineString(points) object, which represents the route."
   ]
  },
  {
   "cell_type": "code",
   "execution_count": 17,
   "id": "6018fbf0-974a-45a4-8582-6fd45261e878",
   "metadata": {
    "execution": {
     "iopub.execute_input": "2025-04-10T13:26:26.355668Z",
     "iopub.status.busy": "2025-04-10T13:26:26.354990Z",
     "iopub.status.idle": "2025-04-10T13:26:26.359567Z",
     "shell.execute_reply": "2025-04-10T13:26:26.359039Z",
     "shell.execute_reply.started": "2025-04-10T13:26:26.355644Z"
    }
   },
   "outputs": [],
   "source": [
    "@udf(returnType=GeometryType())\n",
    "def make_linestring(gps_points):\n",
    "    # Tworzymy pary (lon, lat)\n",
    "    points = [(p['lon'], p['lat']) for p in gps_points]\n",
    "    return LineString(points)"
   ]
  },
  {
   "cell_type": "code",
   "execution_count": 18,
   "id": "1c1e48f2-791e-4cef-8a69-b7f5350e6928",
   "metadata": {
    "execution": {
     "iopub.execute_input": "2025-04-10T13:26:29.243547Z",
     "iopub.status.busy": "2025-04-10T13:26:29.243233Z",
     "iopub.status.idle": "2025-04-10T13:26:29.260043Z",
     "shell.execute_reply": "2025-04-10T13:26:29.259537Z",
     "shell.execute_reply.started": "2025-04-10T13:26:29.243532Z"
    }
   },
   "outputs": [],
   "source": [
    "final_df = with_sorted.withColumn(\"geometry\", make_linestring(\"coords_sorted\"))"
   ]
  },
  {
   "cell_type": "code",
   "execution_count": 19,
   "id": "cb313103-ab8c-4087-bf45-656327a94e7c",
   "metadata": {
    "execution": {
     "iopub.execute_input": "2025-04-10T13:27:09.488437Z",
     "iopub.status.busy": "2025-04-10T13:27:09.488204Z",
     "iopub.status.idle": "2025-04-10T13:27:12.233840Z",
     "shell.execute_reply": "2025-04-10T13:27:12.232943Z",
     "shell.execute_reply.started": "2025-04-10T13:27:09.488421Z"
    }
   },
   "outputs": [
    {
     "name": "stderr",
     "output_type": "stream",
     "text": [
      "[Stage 14:>                                                         (0 + 1) / 1]\r"
     ]
    },
    {
     "name": "stdout",
     "output_type": "stream",
     "text": [
      "+-----+----+--------------------+--------------------+--------------------+\n",
      "|VehId|Trip|          gps_points|       coords_sorted|            geometry|\n",
      "+-----+----+--------------------+--------------------+--------------------+\n",
      "|    8| 707|[{0, 42.277681388...|[{0, 42.277681388...|LINESTRING (-83.6...|\n",
      "|   10|1558|[{0, 42.277065833...|[{0, 42.277065833...|LINESTRING (-83.7...|\n",
      "|   10|1585|[{0, 42.2507675, ...|[{0, 42.2507675, ...|LINESTRING (-83.7...|\n",
      "|  116|2471|[{0, 42.275163611...|[{0, 42.275163611...|LINESTRING (-83.7...|\n",
      "|  116|2480|[{0, 42.277565277...|[{0, 42.277565277...|LINESTRING (-83.7...|\n",
      "|  116|2506|[{0, 42.277501111...|[{0, 42.277501111...|LINESTRING (-83.7...|\n",
      "|  124| 773|[{0, 42.264340833...|[{0, 42.264340833...|LINESTRING (-83.7...|\n",
      "|  124| 776|[{0, 42.281764444...|[{0, 42.281764444...|LINESTRING (-83.7...|\n",
      "|  128| 603|[{0, 42.305195833...|[{0, 42.305195833...|LINESTRING (-83.6...|\n",
      "|  133|1398|[{0, 42.2641025, ...|[{0, 42.2641025, ...|LINESTRING (-83.7...|\n",
      "|  133|1399|[{0, 42.230767222...|[{0, 42.230767222...|LINESTRING (-83.6...|\n",
      "|  140|1222|[{0, 42.276283611...|[{0, 42.276283611...|LINESTRING (-83.7...|\n",
      "|  150| 504|[{0, 42.274460277...|[{0, 42.274460277...|LINESTRING (-83.7...|\n",
      "|  155|1516|[{0, 42.245740833...|[{0, 42.245740833...|LINESTRING (-83.6...|\n",
      "|  155|1533|[{0, 42.284663333...|[{0, 42.284663333...|LINESTRING (-83.8...|\n",
      "|  155|1534|[{363000, 42.2470...|[{0, 42.234061111...|LINESTRING (-83.7...|\n",
      "|  156| 912|[{0, 42.309303055...|[{0, 42.309303055...|LINESTRING (-83.6...|\n",
      "|  156| 913|[{0, 42.293580555...|[{0, 42.293580555...|LINESTRING (-83.7...|\n",
      "|  161| 360|[{0, 42.2355225, ...|[{0, 42.2355225, ...|LINESTRING (-83.7...|\n",
      "|  174|1145|[{0, 42.244144722...|[{0, 42.244144722...|LINESTRING (-83.7...|\n",
      "+-----+----+--------------------+--------------------+--------------------+\n",
      "only showing top 20 rows\n",
      "\n"
     ]
    },
    {
     "name": "stderr",
     "output_type": "stream",
     "text": [
      "                                                                                \r"
     ]
    }
   ],
   "source": [
    "final_df.show()"
   ]
  },
  {
   "cell_type": "code",
   "execution_count": 20,
   "id": "c90c33bd-5132-4941-8077-5b65289c4a28",
   "metadata": {
    "execution": {
     "iopub.execute_input": "2025-04-10T13:27:31.227468Z",
     "iopub.status.busy": "2025-04-10T13:27:31.227202Z",
     "iopub.status.idle": "2025-04-10T13:27:31.230915Z",
     "shell.execute_reply": "2025-04-10T13:27:31.230332Z",
     "shell.execute_reply.started": "2025-04-10T13:27:31.227452Z"
    }
   },
   "outputs": [
    {
     "name": "stdout",
     "output_type": "stream",
     "text": [
      "root\n",
      " |-- VehId: integer (nullable = true)\n",
      " |-- Trip: integer (nullable = true)\n",
      " |-- gps_points: array (nullable = false)\n",
      " |    |-- element: struct (containsNull = false)\n",
      " |    |    |-- timestamp: integer (nullable = true)\n",
      " |    |    |-- lat: double (nullable = true)\n",
      " |    |    |-- lon: double (nullable = true)\n",
      " |-- coords_sorted: array (nullable = true)\n",
      " |    |-- element: struct (containsNull = true)\n",
      " |    |    |-- timestamp: long (nullable = true)\n",
      " |    |    |-- lat: double (nullable = true)\n",
      " |    |    |-- lon: double (nullable = true)\n",
      " |-- geometry: geometry (nullable = true)\n",
      "\n"
     ]
    }
   ],
   "source": [
    "final_df.printSchema()"
   ]
  },
  {
   "cell_type": "markdown",
   "id": "a684cb80-e6f8-4c29-aaec-85d712c40a12",
   "metadata": {},
   "source": [
    "This step turns GPS (point) data into spatial (geometric) data that can:\n",
    "\n",
    "be visualized on a map,\n",
    "\n",
    "analyzed (e.g. route length, intersections, proximity),\n",
    "\n",
    "saved to GIS formats (e.g. GeoJSON, WKT, shapefile),\n",
    "\n",
    "combined with other spatial data."
   ]
  },
  {
   "cell_type": "markdown",
   "id": "cf66a561-026f-462d-9592-cf04863c78d9",
   "metadata": {},
   "source": [
    "2. Second method with performing UDF function registration in PySpark."
   ]
  },
  {
   "cell_type": "code",
   "execution_count": 21,
   "id": "51125d83-6895-4072-ac85-fc25bd3045cd",
   "metadata": {
    "execution": {
     "iopub.execute_input": "2025-04-10T13:32:02.915219Z",
     "iopub.status.busy": "2025-04-10T13:32:02.914943Z",
     "iopub.status.idle": "2025-04-10T13:32:03.200638Z",
     "shell.execute_reply": "2025-04-10T13:32:03.200085Z",
     "shell.execute_reply.started": "2025-04-10T13:32:02.915197Z"
    }
   },
   "outputs": [
    {
     "name": "stdout",
     "output_type": "stream",
     "text": [
      "+-----+----+-------------+-------------+--------------+\n",
      "|VehId|Trip|Timestamp(ms)|Latitude[deg]|Longitude[deg]|\n",
      "+-----+----+-------------+-------------+--------------+\n",
      "|    8| 706|            0|42.2775583333|-83.6987497222|\n",
      "|    8| 706|          200|42.2775583333|-83.6987497222|\n",
      "|    8| 706|         1100|42.2775583333|-83.6987497222|\n",
      "|    8| 706|         2100|42.2775583333|-83.6987497222|\n",
      "|    8| 706|         4200|42.2775583333|-83.6987497222|\n",
      "|    8| 706|         5200|42.2782552778|-83.6988030556|\n",
      "|    8| 706|         6300|42.2782552778|-83.6988030556|\n",
      "|    8| 706|         7400|42.2782552778|-83.6988030556|\n",
      "|    8| 706|         8400|42.2782552778|-83.6988030556|\n",
      "|    8| 706|        10600|   42.2790125|-83.6989011111|\n",
      "|    8| 706|        11700|   42.2790125|-83.6989011111|\n",
      "|    8| 706|        12800|   42.2790125|-83.6989011111|\n",
      "|    8| 706|        13800|   42.2790125|-83.6989011111|\n",
      "|    8| 706|        14900|   42.2790125|-83.6989011111|\n",
      "|    8| 706|        16000|42.2798258333|   -83.6990825|\n",
      "|    8| 706|        17000|42.2798258333|   -83.6990825|\n",
      "|    8| 706|        19800|42.2798258333|   -83.6990825|\n",
      "|    8| 706|        20800|42.2798258333|   -83.6990825|\n",
      "|    8| 706|        21000|42.2806536111|-83.6993497222|\n",
      "|    8| 706|        21800|42.2806536111|-83.6993497222|\n",
      "+-----+----+-------------+-------------+--------------+\n",
      "only showing top 20 rows\n",
      "\n"
     ]
    }
   ],
   "source": [
    "df.show()"
   ]
  },
  {
   "cell_type": "markdown",
   "id": "d28dafdf-a73c-43b4-8a0d-739fa9a57fb3",
   "metadata": {},
   "source": [
    "Create LineString Geometries from GPS tracks\n",
    "A groupBy operation is performed on 'VehId' and 'Trip' columns to isolate individual trajectories. \n",
    "The resulting LineString essentially captures the responding vehicle's trajectory over time. \n",
    "The rows are first sorted by their timestamps to ensure the LineString follows the chronological order of the GPS data points.\n",
    "\n",
    "A User Defined Function (UDF) is created for Spark that utilizes the function below to process Spatial DataFrame rows into LineString geometries."
   ]
  },
  {
   "cell_type": "code",
   "execution_count": 22,
   "id": "3b9a0043-41fd-43a8-84d4-aa864b4771a9",
   "metadata": {
    "execution": {
     "iopub.execute_input": "2025-04-10T13:33:25.148615Z",
     "iopub.status.busy": "2025-04-10T13:33:25.148284Z",
     "iopub.status.idle": "2025-04-10T13:33:25.152081Z",
     "shell.execute_reply": "2025-04-10T13:33:25.151636Z",
     "shell.execute_reply.started": "2025-04-10T13:33:25.148600Z"
    }
   },
   "outputs": [],
   "source": [
    "def rows_to_linestring(rows):\n",
    "    sorted_rows = sorted(rows, key=lambda x: x['Timestamp(ms)'])\n",
    "    coords = [(row['Longitude[deg]'], row['Latitude[deg]']) for row in sorted_rows]\n",
    "    linestring = LineString(coords)\n",
    "    return linestring\n",
    "\n",
    "linestring_udf = udf(rows_to_linestring, GeometryType())"
   ]
  },
  {
   "cell_type": "code",
   "execution_count": 23,
   "id": "7ca7a2c5-7afd-41ad-9bea-de25f3ac6dac",
   "metadata": {
    "execution": {
     "iopub.execute_input": "2025-04-10T13:33:47.635283Z",
     "iopub.status.busy": "2025-04-10T13:33:47.635075Z",
     "iopub.status.idle": "2025-04-10T13:33:47.669820Z",
     "shell.execute_reply": "2025-04-10T13:33:47.669264Z",
     "shell.execute_reply.started": "2025-04-10T13:33:47.635268Z"
    }
   },
   "outputs": [],
   "source": [
    "# Group by VehId and Trip and aggregate\n",
    "dfPath = (df\n",
    "          .groupBy(\"VehId\", \"Trip\")\n",
    "          .agg(collect_list(struct(\"Timestamp(ms)\", \"Latitude[deg]\", \"Longitude[deg]\")).alias(\"coords\"))\n",
    "          .withColumn(\"geometry\", linestring_udf(\"coords\"))\n",
    "         )"
   ]
  },
  {
   "cell_type": "code",
   "execution_count": 24,
   "id": "06dd1caa-0e61-4487-9fba-9d4ed964d3a1",
   "metadata": {
    "execution": {
     "iopub.execute_input": "2025-04-10T13:34:16.197218Z",
     "iopub.status.busy": "2025-04-10T13:34:16.197007Z",
     "iopub.status.idle": "2025-04-10T13:34:17.388090Z",
     "shell.execute_reply": "2025-04-10T13:34:17.387410Z",
     "shell.execute_reply.started": "2025-04-10T13:34:16.197203Z"
    }
   },
   "outputs": [
    {
     "name": "stdout",
     "output_type": "stream",
     "text": [
      "+-----+----+--------------------+--------------------+\n",
      "|VehId|Trip|              coords|            geometry|\n",
      "+-----+----+--------------------+--------------------+\n",
      "|    8| 707|[{0, 42.277681388...|LINESTRING (-83.6...|\n",
      "|   10|1558|[{0, 42.277065833...|LINESTRING (-83.7...|\n",
      "|   10|1585|[{0, 42.2507675, ...|LINESTRING (-83.7...|\n",
      "|  116|2471|[{0, 42.275163611...|LINESTRING (-83.7...|\n",
      "|  116|2480|[{0, 42.277565277...|LINESTRING (-83.7...|\n",
      "|  116|2506|[{0, 42.277501111...|LINESTRING (-83.7...|\n",
      "|  124| 773|[{0, 42.264340833...|LINESTRING (-83.7...|\n",
      "|  124| 776|[{0, 42.281764444...|LINESTRING (-83.7...|\n",
      "|  128| 603|[{0, 42.305195833...|LINESTRING (-83.6...|\n",
      "|  133|1398|[{0, 42.2641025, ...|LINESTRING (-83.7...|\n",
      "|  133|1399|[{0, 42.230767222...|LINESTRING (-83.6...|\n",
      "|  140|1222|[{0, 42.276283611...|LINESTRING (-83.7...|\n",
      "|  150| 504|[{0, 42.274460277...|LINESTRING (-83.7...|\n",
      "|  155|1516|[{0, 42.245740833...|LINESTRING (-83.6...|\n",
      "|  155|1533|[{0, 42.284663333...|LINESTRING (-83.8...|\n",
      "|  155|1534|[{363000, 42.2470...|LINESTRING (-83.7...|\n",
      "|  156| 912|[{0, 42.309303055...|LINESTRING (-83.6...|\n",
      "|  156| 913|[{0, 42.293580555...|LINESTRING (-83.7...|\n",
      "|  161| 360|[{0, 42.2355225, ...|LINESTRING (-83.7...|\n",
      "|  174|1145|[{0, 42.244144722...|LINESTRING (-83.7...|\n",
      "+-----+----+--------------------+--------------------+\n",
      "only showing top 20 rows\n",
      "\n"
     ]
    },
    {
     "name": "stderr",
     "output_type": "stream",
     "text": [
      "                                                                                \r"
     ]
    }
   ],
   "source": [
    "dfPath.show()"
   ]
  },
  {
   "cell_type": "code",
   "execution_count": null,
   "id": "585a7023-0341-4523-94e5-481580975240",
   "metadata": {},
   "outputs": [],
   "source": []
  }
 ],
 "metadata": {
  "kernelspec": {
   "display_name": "Python 3 (ipykernel)",
   "language": "python",
   "name": "python3"
  },
  "language_info": {
   "codemirror_mode": {
    "name": "ipython",
    "version": 3
   },
   "file_extension": ".py",
   "mimetype": "text/x-python",
   "name": "python",
   "nbconvert_exporter": "python",
   "pygments_lexer": "ipython3",
   "version": "3.11.11"
  }
 },
 "nbformat": 4,
 "nbformat_minor": 5
}
